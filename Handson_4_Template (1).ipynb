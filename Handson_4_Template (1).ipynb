{
 "cells": [
  {
   "cell_type": "markdown",
   "metadata": {},
   "source": [
    "# List and Tuples\n",
    "\n",
    "To submit this assignment in D2l, post the link to your notebook file on your GitHub account."
   ]
  },
  {
   "cell_type": "markdown",
   "metadata": {},
   "source": [
    "## 6.1 Prime Number Checker\n",
    "Create a program that checks whether a number is a prime number and displays its factors if it is not a prime number.\n",
    "\n",
    "### Console:\n",
    "```powershell\n",
    "Prime Number Checker\n",
    "\n",
    "Please enter an integer between 1 and 5000: 5\n",
    "5 is a prime number.\n",
    "\n",
    "Try again? (y/n): y\n",
    "\n",
    "Please enter an integer between 1 and 5000: 6\n",
    "6 is NOT a prime number.\n",
    "It has 4 factors: 1 2 3 6\n",
    "\n",
    "Try again? (y/n): y\n",
    "\n",
    "Please enter an integer between 1 and 5000: 200\n",
    "200 is NOT a prime number.\n",
    "It has 12 factors: 1 2 4 5 8 10 20 25 40 50 100 200\n",
    "\n",
    "Try again? (y/n): n\n",
    "\n",
    "Bye!\n",
    "```\n",
    "\n",
    "### Specifications:\n",
    "- A prime number is divisible by two factors (1 and itself). For example, 7 is a prime number because it is only divisible by 1 and 7.\n",
    "- If the user enters an integer that's not between 1 and 5000, the program should display an error message.\n",
    "- If the number is a prime number, the program should display a message.\n",
    "If the number is not a prime number, the program should display a message. Then, it should display the number of factors for the number and a list of those factors.\n",
    "- Store the factors for each number in a list.\n",
    "- Use functions to organize the code for this program.\n"
   ]
  },
  {
   "cell_type": "code",
   "execution_count": 1,
   "metadata": {},
   "outputs": [
    {
     "name": "stdin",
     "output_type": "stream",
     "text": [
      "Please enter an integer between 1 and 5000:  56\n"
     ]
    },
    {
     "name": "stdout",
     "output_type": "stream",
     "text": [
      "56 is NOT a prime number.\n",
      "It has 8 factors: 1 2 4 7 8 14 28 56\n"
     ]
    },
    {
     "name": "stdin",
     "output_type": "stream",
     "text": [
      "\n",
      "Try again? (y/n):  n\n"
     ]
    },
    {
     "name": "stdout",
     "output_type": "stream",
     "text": [
      "\n",
      "Bye!\n"
     ]
    }
   ],
   "source": [
    "def get_factors(n):\n",
    "    return [i for i in range(1, n + 1) if n % i == 0]\n",
    "\n",
    "def main():\n",
    "    while True:\n",
    "        try:\n",
    "            num = int(input(\"Please enter an integer between 1 and 5000: \"))\n",
    "            if not (1 <= num <= 5000):\n",
    "                print(\"Error: Number must be between 1 and 5000.\")\n",
    "                continue\n",
    "            \n",
    "            factors = get_factors(num)\n",
    "            if len(factors) == 2:\n",
    "                print(f\"{num} is a prime number.\")\n",
    "            else:\n",
    "                print(f\"{num} is NOT a prime number.\\nIt has {len(factors)} factors: {' '.join(map(str, factors))}\")\n",
    "            \n",
    "            if input(\"\\nTry again? (y/n): \").strip().lower() != 'y':\n",
    "                break\n",
    "        except ValueError:\n",
    "            print(\"Invalid input. Please enter an integer.\")\n",
    "    \n",
    "    print(\"\\nBye!\")\n",
    "\n",
    "if __name__ == \"__main__\":\n",
    "    main()"
   ]
  },
  {
   "cell_type": "markdown",
   "metadata": {},
   "source": [
    "## 6.2 - Contact Manager\n",
    "Create a program that a user can use to manage the primary email address and phone number for a contact.\n",
    "\n",
    "### Console\n",
    "```powershell\n",
    "Contact Manager\n",
    "\n",
    "COMMAND MENU\n",
    "list - Display all contacts\n",
    "view - View a contact\n",
    "add - Add a contact\n",
    "del - Delete a contact\n",
    "exit - Exit program\n",
    "\n",
    "Command: list\n",
    "1. Guido van Rossum\n",
    "2. Eric Idle\n",
    "\n",
    "Command: view\n",
    "Number: 2\n",
    "Name: Eric Idle\n",
    "Email: eric@ericidle.com\n",
    "Phone: +44 20 7946 0958\n",
    "\n",
    "Command: add\n",
    "Name: Mike Murach\n",
    "Email: mike@murach.com\n",
    "Phone: 559-123-4567\n",
    "Mike Murach was added.\n",
    "\n",
    "Command: del\n",
    "Number: 1\n",
    "Guido van Rossum was deleted.\n",
    "\n",
    "Command: list\n",
    "1. Eric Idle\n",
    "2. Mike Murach\n",
    "\n",
    "Command: exit\n",
    "Bye!\n",
    "```\n",
    "\n",
    "### Specifications:\n",
    "- Use a list of lists to store the data for the contacts. Provide starting data for two or more contacts.\n",
    "- For the `view` and `del` commands, display an error message if the user enters and invalid contact number.\n",
    "- When you exit the program, all changes that you made to the contact list are lost.\n",
    "\n",
    "\n"
   ]
  },
  {
   "cell_type": "code",
   "execution_count": null,
   "metadata": {},
   "outputs": [
    {
     "name": "stdin",
     "output_type": "stream",
     "text": [
      "\n",
      "Command (list, view, add, del, exit):  list\n"
     ]
    },
    {
     "name": "stdout",
     "output_type": "stream",
     "text": [
      "1. Guido van Rossum\n",
      "2. Eric Idle\n"
     ]
    },
    {
     "name": "stdin",
     "output_type": "stream",
     "text": [
      "\n",
      "Command (list, view, add, del, exit):  add\n",
      "Name:  Joey Hudak\n",
      "Email:  jhud@gmail.com\n",
      "Phone:  724-782-0000\n"
     ]
    },
    {
     "name": "stdout",
     "output_type": "stream",
     "text": [
      "Contact added.\n"
     ]
    },
    {
     "name": "stdin",
     "output_type": "stream",
     "text": [
      "\n",
      "Command (list, view, add, del, exit):  view\n",
      "Number:  2\n"
     ]
    },
    {
     "name": "stdout",
     "output_type": "stream",
     "text": [
      "Name: Eric Idle\n",
      "Email: eric@ericidle.com\n",
      "Phone: +44 20 7946 0958\n"
     ]
    },
    {
     "name": "stdin",
     "output_type": "stream",
     "text": [
      "\n",
      "Command (list, view, add, del, exit):  del\n",
      "Number:  1\n"
     ]
    },
    {
     "name": "stdout",
     "output_type": "stream",
     "text": [
      "Guido van Rossum was deleted.\n"
     ]
    },
    {
     "name": "stdin",
     "output_type": "stream",
     "text": [
      "\n",
      "Command (list, view, add, del, exit):  list\n"
     ]
    },
    {
     "name": "stdout",
     "output_type": "stream",
     "text": [
      "1. Eric Idle\n",
      "2. Joey Hudak\n"
     ]
    }
   ],
   "source": [
    "# Contact Manager Program\n",
    "\n",
    "contacts = [\n",
    "    [\"Guido van Rossum\", \"\", \"\"],  \n",
    "    [\"Eric Idle\", \"eric@ericidle.com\", \"+44 20 7946 0958\"]\n",
    "]\n",
    "\n",
    "def list_contacts():\n",
    "    for i, contact in enumerate(contacts, 1):\n",
    "        print(f\"{i}. {contact[0]}\")\n",
    "        \n",
    "def view_contact():\n",
    "    try:\n",
    "        num = int(input(\"Number: \")) - 1\n",
    "        if 0 <= num < len(contacts):\n",
    "            name, email, phone = contacts[num]\n",
    "            print(f\"Name: {name}\\nEmail: {email or 'N/A'}\\nPhone: {phone or 'N/A'}\")\n",
    "        else:\n",
    "            print(\"Error: Invalid contact number.\")\n",
    "    except ValueError:\n",
    "        print(\"Error: Invalid input.\")\n",
    "\n",
    "def add_contact():\n",
    "    contacts.append([input(\"Name: \"), input(\"Email: \"), input(\"Phone: \")])\n",
    "    print(\"Contact added.\")\n",
    "\n",
    "def delete_contact():\n",
    "    try:\n",
    "        num = int(input(\"Number: \")) - 1\n",
    "        if 0 <= num < len(contacts):\n",
    "            print(f\"{contacts.pop(num)[0]} was deleted.\")\n",
    "        else:\n",
    "            print(\"Error: Invalid contact number.\")\n",
    "    except ValueError:\n",
    "        print(\"Error: Invalid input.\")\n",
    "\n",
    "def exit_program():\n",
    "    print(\"Bye!\")\n",
    "    exit()\n",
    "\n",
    "def invalid_command():\n",
    "    print(\"Invalid command.\")\n",
    "\n",
    "commands = {\n",
    "    \"list\": list_contacts,\n",
    "    \"view\": view_contact,\n",
    "    \"add\": add_contact,\n",
    "    \"del\": delete_contact,\n",
    "    \"exit\": exit_program\n",
    "}\n",
    "\n",
    "while True:\n",
    "    cmd = input(\"\\nCommand (list, view, add, del, exit): \").strip().lower()\n",
    "    if cmd in commands:\n",
    "        commands[cmd]()\n",
    "    else:\n",
    "        invalid_command()\n"
   ]
  },
  {
   "cell_type": "code",
   "execution_count": null,
   "metadata": {},
   "outputs": [],
   "source": []
  }
 ],
 "metadata": {
  "kernelspec": {
   "display_name": "Python 3 (ipykernel)",
   "language": "python",
   "name": "python3"
  },
  "language_info": {
   "codemirror_mode": {
    "name": "ipython",
    "version": 3
   },
   "file_extension": ".py",
   "mimetype": "text/x-python",
   "name": "python",
   "nbconvert_exporter": "python",
   "pygments_lexer": "ipython3",
   "version": "3.12.4"
  }
 },
 "nbformat": 4,
 "nbformat_minor": 4
}
